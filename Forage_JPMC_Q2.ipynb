{
 "cells": [
  {
   "cell_type": "code",
   "execution_count": 2,
   "id": "3866db8b",
   "metadata": {},
   "outputs": [],
   "source": [
    "def pricing_model(injection_dates,\n",
    "                 withdrawl_dates,\n",
    "                 prices,\n",
    "                 rate,\n",
    "                 maximum_volume,\n",
    "                 storage_costs):\n",
    "    total_injected_volume = len(injection_dates)*rate\n",
    "    total_withdrawl_volume = len(withdrawl_dates)*rate\n",
    "    if total_injected_volume > maximum_volume:\n",
    "        return 'Error: Total injected volume exceeds maximum allowable volume'\n",
    "    injection_costs = sum([prices[date]*rate for date in injection_dates])\n",
    "    withdrawl_revenues = sum([prices[date]*rate for date in withdrawl_dates])\n",
    "    total_storage_cost = storage_costs*len(injection_dates)\n",
    "    net_value = withdrawl_revenues - injection_costs - total_storage_costs\n",
    "    return net_value"
   ]
  }
 ],
 "metadata": {
  "kernelspec": {
   "display_name": "Python 3 (ipykernel)",
   "language": "python",
   "name": "python3"
  },
  "language_info": {
   "codemirror_mode": {
    "name": "ipython",
    "version": 3
   },
   "file_extension": ".py",
   "mimetype": "text/x-python",
   "name": "python",
   "nbconvert_exporter": "python",
   "pygments_lexer": "ipython3",
   "version": "3.9.7"
  }
 },
 "nbformat": 4,
 "nbformat_minor": 5
}
